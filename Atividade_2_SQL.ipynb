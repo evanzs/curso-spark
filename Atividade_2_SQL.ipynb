{
  "nbformat": 4,
  "nbformat_minor": 0,
  "metadata": {
    "colab": {
      "provenance": [],
      "authorship_tag": "ABX9TyOK/PVKiAkAr3wLK+RqJAA8",
      "include_colab_link": true
    },
    "kernelspec": {
      "name": "python3",
      "display_name": "Python 3"
    },
    "language_info": {
      "name": "python"
    }
  },
  "cells": [
    {
      "cell_type": "markdown",
      "metadata": {
        "id": "view-in-github",
        "colab_type": "text"
      },
      "source": [
        "<a href=\"https://colab.research.google.com/github/evanzs/curso-spark/blob/master/Atividade_2_SQL.ipynb\" target=\"_parent\"><img src=\"https://colab.research.google.com/assets/colab-badge.svg\" alt=\"Open In Colab\"/></a>"
      ]
    },
    {
      "cell_type": "code",
      "source": [
        "from google.colab import drive\n",
        "drive.mount('/content/drive')"
      ],
      "metadata": {
        "colab": {
          "base_uri": "https://localhost:8080/"
        },
        "id": "-K6SxEJZDKdK",
        "outputId": "fc1869d6-19e2-420e-83c6-2338656bb5cf"
      },
      "execution_count": 1,
      "outputs": [
        {
          "output_type": "stream",
          "name": "stdout",
          "text": [
            "Mounted at /content/drive\n"
          ]
        }
      ]
    },
    {
      "cell_type": "code",
      "source": [
        "!tar xf '/content/drive/MyDrive/Colab Notebooks/spark-3.5.1-bin-hadoop3.tgz'\n",
        "!pip install -q findspark\n",
        "import os\n",
        "os.environ[\"JAVA_HOME\"] = \"/usr/lib/jvm/java-11-openjdk-amd64\"\n",
        "os.environ[\"SPARK_HOME\"] = \"/content/spark-3.5.1-bin-hadoop3\"\n",
        "\n",
        "# tornar o pyspark \"importável\"\n",
        "import findspark\n",
        "findspark.init('spark-3.5.1-bin-hadoop3')\n",
        "\n",
        "\n",
        "from pyspark.sql import SparkSession\n",
        "import pandas as pd\n",
        "from google.colab import files\n",
        "import io\n"
      ],
      "metadata": {
        "id": "OTexGVLJ-MYF"
      },
      "execution_count": 2,
      "outputs": []
    },
    {
      "cell_type": "code",
      "source": [
        "from pyspark.sql.types import *\n",
        "spark = SparkSession.builder.master(\"local\").getOrCreate()\n"
      ],
      "metadata": {
        "id": "BTKxiQYzEYHa"
      },
      "execution_count": 3,
      "outputs": []
    },
    {
      "cell_type": "code",
      "source": [
        "## listando os bds existentes\n",
        "spark.sql(\"show databases\").show() ## banco de dados padrão\n",
        "\n",
        "## criando um novo bando de dados\n",
        "spark.sql(\"create database desp\")\n",
        "\n",
        "## criando um novo bando de dados\n",
        "spark.sql(\"use database desp\")\n",
        "\n",
        "\n",
        "## criando um novo bando de dados\n",
        "spark.sql(\"show tables\").show()"
      ],
      "metadata": {
        "id": "XVZyMbrpGKsJ",
        "colab": {
          "base_uri": "https://localhost:8080/"
        },
        "outputId": "a95980e9-d144-40b4-9ffd-e6c1cc88621a"
      },
      "execution_count": 4,
      "outputs": [
        {
          "output_type": "stream",
          "name": "stdout",
          "text": [
            "+---------+\n",
            "|namespace|\n",
            "+---------+\n",
            "|  default|\n",
            "+---------+\n",
            "\n",
            "+---------+---------+-----------+\n",
            "|namespace|tableName|isTemporary|\n",
            "+---------+---------+-----------+\n",
            "+---------+---------+-----------+\n",
            "\n"
          ]
        }
      ]
    },
    {
      "cell_type": "code",
      "source": [
        "uploaded = files.upload()"
      ],
      "metadata": {
        "colab": {
          "base_uri": "https://localhost:8080/",
          "height": 73
        },
        "id": "u0rCchhRu705",
        "outputId": "7f989a02-08d0-4caf-91e2-1cd6ff548688"
      },
      "execution_count": 15,
      "outputs": [
        {
          "output_type": "display_data",
          "data": {
            "text/plain": [
              "<IPython.core.display.HTML object>"
            ],
            "text/html": [
              "\n",
              "     <input type=\"file\" id=\"files-d1287118-9b22-43ed-8d85-7d696dd15206\" name=\"files[]\" multiple disabled\n",
              "        style=\"border:none\" />\n",
              "     <output id=\"result-d1287118-9b22-43ed-8d85-7d696dd15206\">\n",
              "      Upload widget is only available when the cell has been executed in the\n",
              "      current browser session. Please rerun this cell to enable.\n",
              "      </output>\n",
              "      <script>// Copyright 2017 Google LLC\n",
              "//\n",
              "// Licensed under the Apache License, Version 2.0 (the \"License\");\n",
              "// you may not use this file except in compliance with the License.\n",
              "// You may obtain a copy of the License at\n",
              "//\n",
              "//      http://www.apache.org/licenses/LICENSE-2.0\n",
              "//\n",
              "// Unless required by applicable law or agreed to in writing, software\n",
              "// distributed under the License is distributed on an \"AS IS\" BASIS,\n",
              "// WITHOUT WARRANTIES OR CONDITIONS OF ANY KIND, either express or implied.\n",
              "// See the License for the specific language governing permissions and\n",
              "// limitations under the License.\n",
              "\n",
              "/**\n",
              " * @fileoverview Helpers for google.colab Python module.\n",
              " */\n",
              "(function(scope) {\n",
              "function span(text, styleAttributes = {}) {\n",
              "  const element = document.createElement('span');\n",
              "  element.textContent = text;\n",
              "  for (const key of Object.keys(styleAttributes)) {\n",
              "    element.style[key] = styleAttributes[key];\n",
              "  }\n",
              "  return element;\n",
              "}\n",
              "\n",
              "// Max number of bytes which will be uploaded at a time.\n",
              "const MAX_PAYLOAD_SIZE = 100 * 1024;\n",
              "\n",
              "function _uploadFiles(inputId, outputId) {\n",
              "  const steps = uploadFilesStep(inputId, outputId);\n",
              "  const outputElement = document.getElementById(outputId);\n",
              "  // Cache steps on the outputElement to make it available for the next call\n",
              "  // to uploadFilesContinue from Python.\n",
              "  outputElement.steps = steps;\n",
              "\n",
              "  return _uploadFilesContinue(outputId);\n",
              "}\n",
              "\n",
              "// This is roughly an async generator (not supported in the browser yet),\n",
              "// where there are multiple asynchronous steps and the Python side is going\n",
              "// to poll for completion of each step.\n",
              "// This uses a Promise to block the python side on completion of each step,\n",
              "// then passes the result of the previous step as the input to the next step.\n",
              "function _uploadFilesContinue(outputId) {\n",
              "  const outputElement = document.getElementById(outputId);\n",
              "  const steps = outputElement.steps;\n",
              "\n",
              "  const next = steps.next(outputElement.lastPromiseValue);\n",
              "  return Promise.resolve(next.value.promise).then((value) => {\n",
              "    // Cache the last promise value to make it available to the next\n",
              "    // step of the generator.\n",
              "    outputElement.lastPromiseValue = value;\n",
              "    return next.value.response;\n",
              "  });\n",
              "}\n",
              "\n",
              "/**\n",
              " * Generator function which is called between each async step of the upload\n",
              " * process.\n",
              " * @param {string} inputId Element ID of the input file picker element.\n",
              " * @param {string} outputId Element ID of the output display.\n",
              " * @return {!Iterable<!Object>} Iterable of next steps.\n",
              " */\n",
              "function* uploadFilesStep(inputId, outputId) {\n",
              "  const inputElement = document.getElementById(inputId);\n",
              "  inputElement.disabled = false;\n",
              "\n",
              "  const outputElement = document.getElementById(outputId);\n",
              "  outputElement.innerHTML = '';\n",
              "\n",
              "  const pickedPromise = new Promise((resolve) => {\n",
              "    inputElement.addEventListener('change', (e) => {\n",
              "      resolve(e.target.files);\n",
              "    });\n",
              "  });\n",
              "\n",
              "  const cancel = document.createElement('button');\n",
              "  inputElement.parentElement.appendChild(cancel);\n",
              "  cancel.textContent = 'Cancel upload';\n",
              "  const cancelPromise = new Promise((resolve) => {\n",
              "    cancel.onclick = () => {\n",
              "      resolve(null);\n",
              "    };\n",
              "  });\n",
              "\n",
              "  // Wait for the user to pick the files.\n",
              "  const files = yield {\n",
              "    promise: Promise.race([pickedPromise, cancelPromise]),\n",
              "    response: {\n",
              "      action: 'starting',\n",
              "    }\n",
              "  };\n",
              "\n",
              "  cancel.remove();\n",
              "\n",
              "  // Disable the input element since further picks are not allowed.\n",
              "  inputElement.disabled = true;\n",
              "\n",
              "  if (!files) {\n",
              "    return {\n",
              "      response: {\n",
              "        action: 'complete',\n",
              "      }\n",
              "    };\n",
              "  }\n",
              "\n",
              "  for (const file of files) {\n",
              "    const li = document.createElement('li');\n",
              "    li.append(span(file.name, {fontWeight: 'bold'}));\n",
              "    li.append(span(\n",
              "        `(${file.type || 'n/a'}) - ${file.size} bytes, ` +\n",
              "        `last modified: ${\n",
              "            file.lastModifiedDate ? file.lastModifiedDate.toLocaleDateString() :\n",
              "                                    'n/a'} - `));\n",
              "    const percent = span('0% done');\n",
              "    li.appendChild(percent);\n",
              "\n",
              "    outputElement.appendChild(li);\n",
              "\n",
              "    const fileDataPromise = new Promise((resolve) => {\n",
              "      const reader = new FileReader();\n",
              "      reader.onload = (e) => {\n",
              "        resolve(e.target.result);\n",
              "      };\n",
              "      reader.readAsArrayBuffer(file);\n",
              "    });\n",
              "    // Wait for the data to be ready.\n",
              "    let fileData = yield {\n",
              "      promise: fileDataPromise,\n",
              "      response: {\n",
              "        action: 'continue',\n",
              "      }\n",
              "    };\n",
              "\n",
              "    // Use a chunked sending to avoid message size limits. See b/62115660.\n",
              "    let position = 0;\n",
              "    do {\n",
              "      const length = Math.min(fileData.byteLength - position, MAX_PAYLOAD_SIZE);\n",
              "      const chunk = new Uint8Array(fileData, position, length);\n",
              "      position += length;\n",
              "\n",
              "      const base64 = btoa(String.fromCharCode.apply(null, chunk));\n",
              "      yield {\n",
              "        response: {\n",
              "          action: 'append',\n",
              "          file: file.name,\n",
              "          data: base64,\n",
              "        },\n",
              "      };\n",
              "\n",
              "      let percentDone = fileData.byteLength === 0 ?\n",
              "          100 :\n",
              "          Math.round((position / fileData.byteLength) * 100);\n",
              "      percent.textContent = `${percentDone}% done`;\n",
              "\n",
              "    } while (position < fileData.byteLength);\n",
              "  }\n",
              "\n",
              "  // All done.\n",
              "  yield {\n",
              "    response: {\n",
              "      action: 'complete',\n",
              "    }\n",
              "  };\n",
              "}\n",
              "\n",
              "scope.google = scope.google || {};\n",
              "scope.google.colab = scope.google.colab || {};\n",
              "scope.google.colab._files = {\n",
              "  _uploadFiles,\n",
              "  _uploadFilesContinue,\n",
              "};\n",
              "})(self);\n",
              "</script> "
            ]
          },
          "metadata": {}
        },
        {
          "output_type": "stream",
          "name": "stdout",
          "text": [
            "Saving Vendedores.parquet to Vendedores.parquet\n"
          ]
        }
      ]
    },
    {
      "cell_type": "markdown",
      "source": [
        "1. Crie um banco de dados no DW do Spark\n",
        "chamado VendasVarejo, e persista todas as\n",
        "tabelas neste banco de dados.\n",
        "\n",
        "2. Crie uma consulta que mostre de cada item\n",
        "vendido: Nome do Cliente, Data da Venda,\n",
        "Produto, Vendedor e Valor Total do item."
      ],
      "metadata": {
        "id": "yZADUfgRvSFv"
      }
    },
    {
      "cell_type": "code",
      "source": [],
      "metadata": {
        "id": "QVal_BsWu7Hh"
      },
      "execution_count": null,
      "outputs": []
    },
    {
      "cell_type": "code",
      "source": [
        "# Criando Database VendasVarejo\n",
        "\n",
        "spark.sql(\"create database VendasVarejo\")\n",
        "spark.sql(\"show databases\").show()\n",
        "spark.sql(\"use database VendasVarejo\")\n"
      ],
      "metadata": {
        "id": "04zVqD0QKq_Q",
        "colab": {
          "base_uri": "https://localhost:8080/"
        },
        "outputId": "2103a914-7d53-4ca2-dde5-bd9711725bdd"
      },
      "execution_count": 7,
      "outputs": [
        {
          "output_type": "stream",
          "name": "stdout",
          "text": [
            "+------------+\n",
            "|   namespace|\n",
            "+------------+\n",
            "|     default|\n",
            "|        desp|\n",
            "|vendasvarejo|\n",
            "+------------+\n",
            "\n"
          ]
        },
        {
          "output_type": "execute_result",
          "data": {
            "text/plain": [
              "DataFrame[]"
            ]
          },
          "metadata": {},
          "execution_count": 7
        }
      ]
    },
    {
      "cell_type": "code",
      "source": [
        "## Criando a tabela vendas\n",
        "\n",
        "df_vendas = pd.read_parquet(io.BytesIO(uploaded['Vendas.parquet']))\n",
        "df_vendas.head(5)\n",
        "dfs_vendas = spark.createDataFrame(df_vendas)\n",
        "dfs_vendas.write.saveAsTable(\"vendas\")\n",
        "spark.sql('show tables').show()"
      ],
      "metadata": {
        "colab": {
          "base_uri": "https://localhost:8080/"
        },
        "id": "eOlxr01_waPO",
        "outputId": "6c9ad766-42aa-4a06-d4a0-9ba269568397"
      },
      "execution_count": 8,
      "outputs": [
        {
          "output_type": "stream",
          "name": "stdout",
          "text": [
            "+------------+---------+-----------+\n",
            "|   namespace|tableName|isTemporary|\n",
            "+------------+---------+-----------+\n",
            "|vendasvarejo|   vendas|      false|\n",
            "+------------+---------+-----------+\n",
            "\n"
          ]
        }
      ]
    },
    {
      "cell_type": "code",
      "source": [
        "## Criando a tabela ItensVendas\n",
        "\n",
        "df_itens_vendas = pd.read_parquet(io.BytesIO(uploaded['ItensVendas.parquet']))\n",
        "df_itens_vendas.head(5)\n",
        "dfs_itens_vendas = spark.createDataFrame(df_itens_vendas)\n",
        "dfs_itens_vendas.write.saveAsTable(\"itens_vendas\")\n",
        "spark.sql('show tables').show()"
      ],
      "metadata": {
        "colab": {
          "base_uri": "https://localhost:8080/"
        },
        "id": "ACjnyuPsyDVq",
        "outputId": "4499a0f2-6526-4c4e-cce4-db58e891c831"
      },
      "execution_count": 10,
      "outputs": [
        {
          "output_type": "stream",
          "name": "stdout",
          "text": [
            "+------------+------------+-----------+\n",
            "|   namespace|   tableName|isTemporary|\n",
            "+------------+------------+-----------+\n",
            "|vendasvarejo|itens_vendas|      false|\n",
            "|vendasvarejo|      vendas|      false|\n",
            "+------------+------------+-----------+\n",
            "\n"
          ]
        }
      ]
    },
    {
      "cell_type": "code",
      "source": [
        "## Criando a tabela Produtos\n",
        "\n",
        "df_produtos = pd.read_parquet(io.BytesIO(uploaded['Produtos.parquet']))\n",
        "df_produtos.head(5)\n",
        "dfs_produtos = spark.createDataFrame(df_produtos)\n",
        "dfs_produtos.write.saveAsTable(\"produtos\")\n",
        "spark.sql('show tables').show()"
      ],
      "metadata": {
        "colab": {
          "base_uri": "https://localhost:8080/"
        },
        "id": "tlbXlNPIyhUI",
        "outputId": "8b9673fa-299e-48b0-e84f-839b75029fba"
      },
      "execution_count": 12,
      "outputs": [
        {
          "output_type": "stream",
          "name": "stdout",
          "text": [
            "+------------+------------+-----------+\n",
            "|   namespace|   tableName|isTemporary|\n",
            "+------------+------------+-----------+\n",
            "|vendasvarejo|itens_vendas|      false|\n",
            "|vendasvarejo|    produtos|      false|\n",
            "|vendasvarejo|      vendas|      false|\n",
            "+------------+------------+-----------+\n",
            "\n"
          ]
        }
      ]
    },
    {
      "cell_type": "code",
      "source": [
        "## Criando a tabela Clientes\n",
        "\n",
        "df_clientes = pd.read_parquet(io.BytesIO(uploaded['Clientes.parquet']))\n",
        "df_clientes.head(5)\n",
        "dfs_clientes = spark.createDataFrame(df_clientes)\n",
        "dfs_clientes.write.saveAsTable(\"clientes\")\n",
        "spark.sql('show tables').show()"
      ],
      "metadata": {
        "colab": {
          "base_uri": "https://localhost:8080/"
        },
        "id": "-AnGYUPxy2Ox",
        "outputId": "072a74eb-a85b-4f7c-fb1d-0c5c5777db90"
      },
      "execution_count": 14,
      "outputs": [
        {
          "output_type": "stream",
          "name": "stdout",
          "text": [
            "+------------+------------+-----------+\n",
            "|   namespace|   tableName|isTemporary|\n",
            "+------------+------------+-----------+\n",
            "|vendasvarejo|    clientes|      false|\n",
            "|vendasvarejo|itens_vendas|      false|\n",
            "|vendasvarejo|    produtos|      false|\n",
            "|vendasvarejo|      vendas|      false|\n",
            "+------------+------------+-----------+\n",
            "\n"
          ]
        }
      ]
    },
    {
      "cell_type": "code",
      "source": [
        "## Criando a tabela Clientes\n",
        "\n",
        "df_vendedores = pd.read_parquet(io.BytesIO(uploaded['Vendedores.parquet']))\n",
        "df_vendedores.head(5)\n",
        "dfs_vendedores = spark.createDataFrame(df_vendedores)\n",
        "dfs_vendedores.write.saveAsTable(\"Vendedores\")\n",
        "spark.sql('show tables').show()"
      ],
      "metadata": {
        "colab": {
          "base_uri": "https://localhost:8080/"
        },
        "id": "QlTtmgK8z869",
        "outputId": "f97334e6-faa5-482c-e2ad-62402287935f"
      },
      "execution_count": 16,
      "outputs": [
        {
          "output_type": "stream",
          "name": "stdout",
          "text": [
            "+------------+------------+-----------+\n",
            "|   namespace|   tableName|isTemporary|\n",
            "+------------+------------+-----------+\n",
            "|vendasvarejo|    clientes|      false|\n",
            "|vendasvarejo|itens_vendas|      false|\n",
            "|vendasvarejo|    produtos|      false|\n",
            "|vendasvarejo|      vendas|      false|\n",
            "|vendasvarejo|  vendedores|      false|\n",
            "+------------+------------+-----------+\n",
            "\n"
          ]
        }
      ]
    },
    {
      "cell_type": "code",
      "source": [
        "spark.sql('select * from itens_vendas').show(5)"
      ],
      "metadata": {
        "colab": {
          "base_uri": "https://localhost:8080/"
        },
        "id": "doQWQacN0_Ch",
        "outputId": "a084441a-e1da-4244-9e3b-8c9c0366c0dd"
      },
      "execution_count": null,
      "outputs": [
        {
          "output_type": "stream",
          "name": "stdout",
          "text": [
            "+---------+--------+----------+-------------+----------+--------+----------------+\n",
            "|ProdutoID|VendasID|Quantidade|ValorUnitario|ValorTotal|Desconto|TotalComDesconto|\n",
            "+---------+--------+----------+-------------+----------+--------+----------------+\n",
            "|        2|     400|         2|       9201.0|   18402.0| 6256,68|        12145.32|\n",
            "|        2|     385|         2|       9201.0|   18402.0| 5704,62|        12697.38|\n",
            "|        4|     395|         2|       6892.2|   13784.4| 5100,23|         8684.17|\n",
            "|        4|     367|         2|       6509.3|   13018.6| 4816,88|         8201.72|\n",
            "|        2|     380|         2|      7038.77|  14077.54| 4364,04|          9713.5|\n",
            "+---------+--------+----------+-------------+----------+--------+----------------+\n",
            "only showing top 5 rows\n",
            "\n"
          ]
        }
      ]
    },
    {
      "cell_type": "code",
      "source": [
        "spark.sql('select * from itens_vendas').show(5)"
      ],
      "metadata": {
        "colab": {
          "base_uri": "https://localhost:8080/"
        },
        "id": "nhYdg4-y9Tjz",
        "outputId": "7978d71c-eca2-4203-c55e-f88e535b0da2"
      },
      "execution_count": null,
      "outputs": [
        {
          "output_type": "stream",
          "name": "stdout",
          "text": [
            "+---------+--------+----------+-------------+----------+--------+----------------+\n",
            "|ProdutoID|VendasID|Quantidade|ValorUnitario|ValorTotal|Desconto|TotalComDesconto|\n",
            "+---------+--------+----------+-------------+----------+--------+----------------+\n",
            "|        2|     400|         2|       9201.0|   18402.0| 6256,68|        12145.32|\n",
            "|        2|     385|         2|       9201.0|   18402.0| 5704,62|        12697.38|\n",
            "|        4|     395|         2|       6892.2|   13784.4| 5100,23|         8684.17|\n",
            "|        4|     367|         2|       6509.3|   13018.6| 4816,88|         8201.72|\n",
            "|        2|     380|         2|      7038.77|  14077.54| 4364,04|          9713.5|\n",
            "+---------+--------+----------+-------------+----------+--------+----------------+\n",
            "only showing top 5 rows\n",
            "\n"
          ]
        }
      ]
    },
    {
      "cell_type": "code",
      "source": [
        "spark.sql(\"select * from Clientes inner join vendas on (Clientes.ClienteID = vendas.ClienteID) \\\n",
        "                                  inner join itens_vendas on (vendas.VendasID = itens_vendas.VendasID) \\\n",
        "                                  inner join produtos on (itens_vendas.ProdutoID = produtos.ProdutoID) \\\n",
        "                                  inner join vendedores on (vendas.VendedorID = vendedores.VendedorID)\").show(5)"
      ],
      "metadata": {
        "colab": {
          "base_uri": "https://localhost:8080/"
        },
        "id": "r0DHQI9K3Daw",
        "outputId": "b736a5d9-bca4-44c3-adf0-870f7378c1fb"
      },
      "execution_count": 17,
      "outputs": [
        {
          "output_type": "stream",
          "name": "stdout",
          "text": [
            "+---------+-----------------+------+------+------+--------+----------+---------+--------+------+---------+--------+----------+-------------+----------+--------+----------------+---------+--------------------+---------+----------+----------------+\n",
            "|ClienteID|          Cliente|Estado|Genero|Status|VendasID|VendedorID|ClienteID|    Data| Total|ProdutoID|VendasID|Quantidade|ValorUnitario|ValorTotal|Desconto|TotalComDesconto|ProdutoID|             Produto|    Preco|VendedorID|        Vendedor|\n",
            "+---------+-----------------+------+------+------+--------+----------+---------+--------+------+---------+--------+----------+-------------+----------+--------+----------------+---------+--------------------+---------+----------+----------------+\n",
            "|       91|   Cosme Zambujal|    BA|     M|Silver|       1|         1|       91|1/1/2019|8053.6|        2|       1|         1|      7820.85|   7820.85|     -  |         7820.85|        2|Bicicleta Altools...|9.201,00 |         1|    Armando Lago|\n",
            "|       91|   Cosme Zambujal|    BA|     M|Silver|       1|         1|       91|1/1/2019|8053.6|        9|       1|         1|        97.75|     97.75|    0,98|           96.77|        9|Bermuda Predactor...|  115,00 |         1|    Armando Lago|\n",
            "|       91|   Cosme Zambujal|    BA|     M|Silver|       1|         1|       91|1/1/2019|8053.6|       10|       1|         1|        135.0|     135.0|    1,35|          133.65|       10|Camiseta Predacto...|  135,00 |         1|    Armando Lago|\n",
            "|      185|Gertrudes Hidalgo|    PA|     F|Silver|       2|         6|      185|1/1/2020| 150.4|        8|       2|         1|        150.4|     150.4|    1,50|           148.9|        8|Luva De Ciclismo ...|  188,00 |         6|   Iberê Lacerda|\n",
            "|       31| Antão Corte-Real|    ES|     M|Silver|       3|         7|       31|2/1/2020|6087.0|        7|       3|         1|        155.0|     155.0|     -  |           155.0|        7|Capacete Gometws ...|  155,00 |         7|Jéssica Castelão|\n",
            "+---------+-----------------+------+------+------+--------+----------+---------+--------+------+---------+--------+----------+-------------+----------+--------+----------------+---------+--------------------+---------+----------+----------------+\n",
            "only showing top 5 rows\n",
            "\n"
          ]
        }
      ]
    },
    {
      "cell_type": "code",
      "source": [
        "## utilizando api do spark\n",
        "\n",
        "dfs_clientes.join(dfs_vendas,dfs_clientes.ClienteID == dfs_vendas.ClienteID) \\\n",
        "            .join(dfs_itens_vendas,dfs_itens_vendas.VendasID == dfs_vendas.VendasID) \\\n",
        "            .join(dfs_produtos,dfs_itens_vendas.ProdutoID == dfs_produtos.ProdutoID) \\\n",
        "            .join(dfs_vendedores,dfs_vendedores.VendedorID == dfs_vendas.VendedorID) \\\n",
        "            .select('Cliente','Data','Produto','Vendedor','ValorTotal').show(6)"
      ],
      "metadata": {
        "colab": {
          "base_uri": "https://localhost:8080/"
        },
        "id": "Xr-0WPtqMO8Z",
        "outputId": "0b505b91-0377-4e12-b30d-c7545cbc5c54"
      },
      "execution_count": 29,
      "outputs": [
        {
          "output_type": "stream",
          "name": "stdout",
          "text": [
            "+------------------+---------+--------------------+------------+----------+\n",
            "|           Cliente|     Data|             Produto|    Vendedor|ValorTotal|\n",
            "+------------------+---------+--------------------+------------+----------+\n",
            "|  Antão Corte-Real|30/1/2018|Bicicleta Aro 29 ...|Armando Lago|   6771.78|\n",
            "|  Antão Corte-Real|20/7/2020|Bicicleta Aro 29 ...|Armando Lago|    7524.2|\n",
            "|     Cidália Miera|20/8/2018|Bicicleta Aro 29 ...|Armando Lago|   6019.36|\n",
            "| Gertrudes Hidalgo|11/2/2018|Bicicleta Aro 29 ...|Armando Lago|    7524.2|\n",
            "|  Fabrício Varella|28/9/2018|Bicicleta Aro 29 ...|Armando Lago|    8852.0|\n",
            "|Brenda Serralheiro|28/5/2019|Bicicleta Altools...|Armando Lago|    9201.0|\n",
            "+------------------+---------+--------------------+------------+----------+\n",
            "only showing top 6 rows\n",
            "\n"
          ]
        }
      ]
    }
  ]
}