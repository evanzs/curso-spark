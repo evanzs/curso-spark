{
  "nbformat": 4,
  "nbformat_minor": 0,
  "metadata": {
    "colab": {
      "provenance": [],
      "mount_file_id": "16Bqd1j8bHDRFkf3w42cCrOAUikIB4gGo",
      "authorship_tag": "ABX9TyPA0Ap4E/02ND6hxwWjpebL",
      "include_colab_link": true
    },
    "kernelspec": {
      "name": "python3",
      "display_name": "Python 3"
    },
    "language_info": {
      "name": "python"
    }
  },
  "cells": [
    {
      "cell_type": "markdown",
      "metadata": {
        "id": "view-in-github",
        "colab_type": "text"
      },
      "source": [
        "<a href=\"https://colab.research.google.com/github/evanzs/curso-spark/blob/master/spark_ml_regressao.ipynb\" target=\"_parent\"><img src=\"https://colab.research.google.com/assets/colab-badge.svg\" alt=\"Open In Colab\"/></a>"
      ]
    },
    {
      "cell_type": "code",
      "execution_count": null,
      "metadata": {
        "colab": {
          "base_uri": "https://localhost:8080/"
        },
        "id": "RrxxVRwuTvbr",
        "outputId": "a6ad1821-b117-45f9-ee09-7628bdb2f38d"
      },
      "outputs": [
        {
          "output_type": "stream",
          "name": "stdout",
          "text": [
            "Mounted at /content/drive\n"
          ]
        }
      ],
      "source": [
        "from google.colab import drive\n",
        "drive.mount('/content/drive', force_remount=True)\n",
        "\n"
      ]
    },
    {
      "cell_type": "code",
      "source": [
        "\n",
        "spark_home ='/content/drive/MyDrive/Colab Notebooks/spark-3.5.1-bin-hadoop3.tgz'\n",
        "\n",
        "# instalar as dependências\n",
        "!apt-get install openjdk-11-jdk-headless -qq > /dev/null\n",
        "\n",
        "!tar xf '/content/drive/MyDrive/Colab Notebooks/spark-3.5.1-bin-hadoop3.tgz'\n",
        "!pip install -q findspark\n",
        "\n",
        "# configurar as variáveis de ambiente\n",
        "import os\n",
        "os.environ[\"JAVA_HOME\"] = \"/usr/lib/jvm/java-11-openjdk-amd64\"\n",
        "os.environ[\"SPARK_HOME\"] = \"/content/spark-3.5.1-bin-hadoop3\"\n",
        "\n",
        "# tornar o pyspark \"importável\"\n",
        "import findspark\n",
        "findspark.init('spark-3.5.1-bin-hadoop3')\n",
        "\n",
        "\n",
        "from pyspark.sql import SparkSession"
      ],
      "metadata": {
        "id": "eRn2rcVwUaT2"
      },
      "execution_count": null,
      "outputs": []
    },
    {
      "cell_type": "code",
      "source": [
        "## Criando RDD\n",
        "spark = SparkSession.builder.appName(\"ml\").getOrCreate()\n",
        "\n",
        "\n"
      ],
      "metadata": {
        "id": "XJZ_plRBU0pe"
      },
      "execution_count": 34,
      "outputs": []
    },
    {
      "cell_type": "markdown",
      "source": [
        "**Trabalhando ML  usando**\n",
        "- Regressão Linear da LIB DE ML\n",
        "- Regressão RandomForest que usa arvore de Decisão"
      ],
      "metadata": {
        "id": "1hzI3fZDkYJt"
      }
    },
    {
      "cell_type": "code",
      "source": [
        "## importando classes de ml\n",
        "from pyspark.ml.regression import LinearRegression,RandomForestRegressor\n",
        "from pyspark.ml.evaluation import RegressionEvaluator\n",
        "from pyspark.ml.feature import VectorAssembler\n"
      ],
      "metadata": {
        "id": "3qGCRO9ukY_S"
      },
      "execution_count": 35,
      "outputs": []
    },
    {
      "cell_type": "code",
      "source": [
        "## importando Dados\n",
        "import pandas as pd\n",
        "df  = pd.read_csv(\"https://raw.githubusercontent.com/evanzs/curso-spark/master/datasets/Carros.csv\",sep=';')\n",
        "df_carros = spark.createDataFrame(df)\n",
        "df_carros.show(5)\n"
      ],
      "metadata": {
        "colab": {
          "base_uri": "https://localhost:8080/"
        },
        "id": "IlpRYObxlVEy",
        "outputId": "2e5bec8d-ea3d-477e-ac56-1ac1c10971ca"
      },
      "execution_count": 36,
      "outputs": [
        {
          "output_type": "stream",
          "name": "stdout",
          "text": [
            "+-------+---------+-----------+---------------+----+-----+---------+-----------+-------+-----------+---+\n",
            "|Consumo|Cilindros|Cilindradas|RelEixoTraseiro|Peso|Tempo|TipoMotor|Transmissao|Marchas|Carburadors| HP|\n",
            "+-------+---------+-----------+---------------+----+-----+---------+-----------+-------+-----------+---+\n",
            "|     21|        6|        160|             39| 262| 1646|        0|          1|      4|          4|110|\n",
            "|     21|        6|        160|             39|2875| 1702|        0|          1|      4|          4|110|\n",
            "|    228|        4|        108|            385| 232| 1861|        1|          1|      4|          1| 93|\n",
            "|    214|        6|        258|            308|3215| 1944|        1|          0|      3|          1|110|\n",
            "|    187|        8|        360|            315| 344| 1702|        0|          0|      3|          2|175|\n",
            "+-------+---------+-----------+---------------+----+-----+---------+-----------+-------+-----------+---+\n",
            "only showing top 5 rows\n",
            "\n"
          ]
        }
      ]
    },
    {
      "cell_type": "markdown",
      "source": [
        "## Vetorizando 3 colunas\n",
        "\n",
        "- Vetorizado varaiveis cilindros,cilindradas e consumo, transformando essa 3 colunas em apenas uma,reduzindo o tamnho.\n",
        "\n",
        "- usaremos apenas essa coluna resultado e HP para regressão\n"
      ],
      "metadata": {
        "id": "GHghRg0CsoXM"
      }
    },
    {
      "cell_type": "code",
      "source": [
        "carros_temp = df_carros.select('Cilindros','Cilindradas','HP','Consumo')\n",
        "\n",
        "cols = [(\"Consumo\"),(\"Cilindradas\"),(\"Cilindros\")]\n",
        "vec_caracteristicas = VectorAssembler(inputCols=cols,outputCol=\"caracteristicas\")\n",
        "dfv_carros = vec_caracteristicas.transform(carros_temp)\n",
        "dfv_carros.show(5)\n",
        "\n",
        "## coluna caracteristicas é a combinaão vetorizada das colunas cilindros,cilindradas e Consumo\n"
      ],
      "metadata": {
        "colab": {
          "base_uri": "https://localhost:8080/"
        },
        "id": "GwhA6YYQtSgU",
        "outputId": "8165b285-978c-4e17-9df7-6386ac19655a"
      },
      "execution_count": 37,
      "outputs": [
        {
          "output_type": "stream",
          "name": "stdout",
          "text": [
            "+---------+-----------+---+-------+-----------------+\n",
            "|Cilindros|Cilindradas| HP|Consumo|  caracteristicas|\n",
            "+---------+-----------+---+-------+-----------------+\n",
            "|        6|        160|110|     21| [21.0,160.0,6.0]|\n",
            "|        6|        160|110|     21| [21.0,160.0,6.0]|\n",
            "|        4|        108| 93|    228|[228.0,108.0,4.0]|\n",
            "|        6|        258|110|    214|[214.0,258.0,6.0]|\n",
            "|        8|        360|175|    187|[187.0,360.0,8.0]|\n",
            "+---------+-----------+---+-------+-----------------+\n",
            "only showing top 5 rows\n",
            "\n"
          ]
        }
      ]
    },
    {
      "cell_type": "code",
      "source": [
        "## separando dataframe entre teste e treino em 70% treino - 30%  teste\n",
        "splitConfig = [0.7,0.3]\n",
        "carros_treino,carros_teste = dfv_carros.randomSplit(splitConfig)\n",
        "print(\"quantidade de itens para treino: \",carros_treino.count());\n",
        "print(\"quantidades de itens para teste: \",carros_teste.count())\n",
        "\n",
        "#OBS: o numero é muito pouco mas não iremos validar isso inicialmente"
      ],
      "metadata": {
        "colab": {
          "base_uri": "https://localhost:8080/"
        },
        "id": "2vjB6Pstu496",
        "outputId": "0c37d145-7c51-4b31-ee66-1bc1b2fd83c7"
      },
      "execution_count": 40,
      "outputs": [
        {
          "output_type": "stream",
          "name": "stdout",
          "text": [
            "quantidade de itens para treino:  19\n",
            "quantidades de itens para teste:  13\n"
          ]
        }
      ]
    },
    {
      "cell_type": "markdown",
      "source": [
        "# Criando modelo REGRESSAO LINEAR\n",
        "Criamos um modulo de regressão lienar, onde a coluna objetivo seria \"HP\" e as outras seria a coluna \"caracteristica\"."
      ],
      "metadata": {
        "id": "milub_68v5-v"
      }
    },
    {
      "cell_type": "code",
      "source": [
        "## criando medelo\n",
        "regLinear = LinearRegression(featuresCol=\"caracteristicas\",labelCol=\"HP\");\n",
        "\n",
        "## usando .fit() para treinar o modulo\n",
        "model_regLinear = regLinear.fit(carros_treino)\n",
        "\n",
        "\n",
        "#realizando a previsão do modulo usando o df de teste\n",
        "result = model_regLinear.transform(carros_teste)\n",
        "result.show() ##coluna \"prediction\" seria o resultado"
      ],
      "metadata": {
        "colab": {
          "base_uri": "https://localhost:8080/"
        },
        "id": "5ewQthravL4O",
        "outputId": "281c58f8-baa1-4bea-8041-c4c47e1637b1"
      },
      "execution_count": 41,
      "outputs": [
        {
          "output_type": "stream",
          "name": "stdout",
          "text": [
            "+---------+-----------+---+-------+------------------+------------------+\n",
            "|Cilindros|Cilindradas| HP|Consumo|   caracteristicas|        prediction|\n",
            "+---------+-----------+---+-------+------------------+------------------+\n",
            "|        4|        108| 93|    228| [228.0,108.0,4.0]| 82.20474895782729|\n",
            "|        4|       1467| 62|    244|[244.0,1467.0,4.0]| 75.51873902507842|\n",
            "|        6|        160|110|     21|  [21.0,160.0,6.0]|133.96258189772334|\n",
            "|        6|        225|105|    181| [181.0,225.0,6.0]| 139.6374009909798|\n",
            "|        6|        258|110|    214| [214.0,258.0,6.0]|140.70275065019825|\n",
            "|        8|        360|175|    187| [187.0,360.0,8.0]|198.96877503218752|\n",
            "|        8|        460|215|    104| [104.0,460.0,8.0]|195.30782557598405|\n",
            "|        4|        121|109|    214| [214.0,121.0,4.0]| 81.60798075016272|\n",
            "|        4|        757| 52|    304| [304.0,757.0,4.0]| 81.58526795697085|\n",
            "|        4|       1203| 91|     26| [26.0,1203.0,4.0]|  68.7276737776469|\n",
            "|        6|        145|175|    197| [197.0,145.0,6.0]|140.66878459667475|\n",
            "|        8|        301|335|     15|  [15.0,301.0,8.0]|192.81002160580363|\n",
            "|        8|        350|245|    133| [133.0,350.0,8.0]|196.98950247260177|\n",
            "+---------+-----------+---+-------+------------------+------------------+\n",
            "\n"
          ]
        }
      ]
    },
    {
      "cell_type": "markdown",
      "source": [
        "##**Medindo o nivel de acuracia do modelo feito.**\n",
        "- utilizando o \"RegressionEvaluator\" para medir a performace do module criado, passando a metrica desejada.\n",
        "\n",
        "# Coeficiente de determinação (R2)\n",
        "- O coeficiente de determinação, também chamado de R², é uma medida de ajuste de um modelo estatístico linear generalizado, como a regressão linear simples ou múltipla, aos valores observados de uma variável aleatória. O R² varia entre 0 e 1, por vezes sendo expresso em termos percentuais\n",
        "\n",
        "- Quando R2 é igual a 0, isso significa que o modelo não explica nada da variação dos dados, enquanto um R2 igual a 1 indica que o modelo explica toda a variação dos dados. Em outras palavras, o R2 representa a porcentagem da variação nos dados que é explicada pelo modelo.\n",
        "\n",
        "\n",
        "# Raiz quadrada do erro-médio\n",
        "-  O Erro Quadrático Médio (RMSE) é o desvio padrão dos valores residuais (erros de previsão). Os valores residuais são uma medida da distância entre a linha de regressão e os pontos de dados. O RMSE é uma medida da dispersão desses valores residuais.\n"
      ],
      "metadata": {
        "id": "Ql5QiAArxUrr"
      }
    },
    {
      "cell_type": "code",
      "source": [
        "rmse = RegressionEvaluator(predictionCol=\"prediction\", labelCol=\"HP\",metricName='rmse').evaluate(result)\n",
        "r2 = RegressionEvaluator(predictionCol=\"prediction\", labelCol=\"HP\",metricName='r2').evaluate(result)\n",
        "mae = RegressionEvaluator(predictionCol=\"prediction\", labelCol=\"HP\",metricName='mae').evaluate(result)\n",
        "\n",
        "print(\"resultado de RMSE: \",rmse) ## quanto menor melhor\n",
        "print(\"resultado de MAE: \",mae) ##\n",
        "print(\"resultado de R2: \",r2) ## quanto mais prox. de 1 melhor\n"
      ],
      "metadata": {
        "colab": {
          "base_uri": "https://localhost:8080/"
        },
        "id": "2A7Lr6xGxwqW",
        "outputId": "fe6828b1-620c-4f85-b86b-6565e8953aec"
      },
      "execution_count": 43,
      "outputs": [
        {
          "output_type": "stream",
          "name": "stdout",
          "text": [
            "resultado de RMSE:  47.879246290697466\n",
            "resultado de MAE:  35.466075216649\n",
            "resultado de R2:  0.6241887032473652\n"
          ]
        }
      ]
    },
    {
      "cell_type": "markdown",
      "source": [
        "# Criando modelo RandomForest\n",
        "Criamos um modulo de RandomForest, onde a coluna objetivo seria \"HP\" e as outras seria a coluna \"caracteristica\" ( já criado)."
      ],
      "metadata": {
        "id": "ZPkt9V5y5pS6"
      }
    },
    {
      "cell_type": "code",
      "source": [
        "# criando modelo\n",
        "reg_randomForest = RandomForestRegressor(featuresCol=\"caracteristicas\",labelCol=\"HP\")\n",
        "\n",
        "#treinando modelo\n",
        "model_randomForest = reg_randomForest.fit(carros_treino)\n",
        "\n",
        "result_random = model_randomForest.transform(carros_teste)\n",
        "result_random.show(5)\n",
        "\n",
        "\n",
        "rmse_random = RegressionEvaluator(predictionCol=\"prediction\", labelCol=\"HP\",metricName='rmse').evaluate(result_random)\n",
        "r2_random = RegressionEvaluator(predictionCol=\"prediction\", labelCol=\"HP\",metricName='r2').evaluate(result_random)\n",
        "mae_random = RegressionEvaluator(predictionCol=\"prediction\", labelCol=\"HP\",metricName='mae').evaluate(result_random)\n",
        "\n",
        "\n",
        "print(\"resultado de RMSE: \",rmse)\n",
        "print(\"resultado de MAE: \",mae)\n",
        "print(\"resultado de R2: \",r2)\n",
        "\n",
        "\n",
        "print(\"\\n resultado de RMSE: \",rmse_random) ## quanto menor melhor\n",
        "print(\"resultado de MAE: \",mae_random) ##\n",
        "print(\"resultado de R2: \",r2_random) ## quanto mais prox. de 1 melho"
      ],
      "metadata": {
        "colab": {
          "base_uri": "https://localhost:8080/"
        },
        "id": "G5i-ykeP50gz",
        "outputId": "7c1dfdb2-b86f-497d-8058-c023cce57e8f"
      },
      "execution_count": 47,
      "outputs": [
        {
          "output_type": "stream",
          "name": "stdout",
          "text": [
            "+---------+-----------+---+-------+------------------+------------------+\n",
            "|Cilindros|Cilindradas| HP|Consumo|   caracteristicas|        prediction|\n",
            "+---------+-----------+---+-------+------------------+------------------+\n",
            "|        4|        108| 93|    228| [228.0,108.0,4.0]|           93.1875|\n",
            "|        4|       1467| 62|    244|[244.0,1467.0,4.0]| 97.52000000000001|\n",
            "|        6|        160|110|     21|  [21.0,160.0,6.0]|126.80803571428571|\n",
            "|        6|        225|105|    181| [181.0,225.0,6.0]|             118.2|\n",
            "|        6|        258|110|    214| [214.0,258.0,6.0]|          108.4375|\n",
            "+---------+-----------+---+-------+------------------+------------------+\n",
            "only showing top 5 rows\n",
            "\n",
            "resultado de RMSE:  45.039030228626686\n",
            "resultado de MAE:  30.118195970695965\n",
            "resultado de R2:  0.6674528103683037\n",
            "resultado de RMSE:  45.039030228626686\n",
            "resultado de MAE:  30.118195970695965\n",
            "resultado de R2:  0.6674528103683037\n"
          ]
        }
      ]
    }
  ]
}