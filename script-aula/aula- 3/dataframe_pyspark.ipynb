{
  "cells": [
    {
      "cell_type": "markdown",
      "metadata": {
        "colab_type": "text",
        "id": "view-in-github"
      },
      "source": [
        "<a href=\"https://colab.research.google.com/github/evanzs/curso-spark/blob/master/dataframe_pyspark.ipynb\" target=\"_parent\"><img src=\"https://colab.research.google.com/assets/colab-badge.svg\" alt=\"Open In Colab\"/></a>"
      ]
    },
    {
      "cell_type": "code",
      "execution_count": 6,
      "metadata": {
        "id": "eRn2rcVwUaT2"
      },
      "outputs": [],
      "source": [
        "\n",
        "spark_home ='/content/drive/MyDrive/Colab Notebooks/spark-3.5.1-bin-hadoop3.tgz'\n",
        "\n",
        "# instalar as dependências\n",
        "!apt-get install openjdk-8-jdk-headless -qq > /dev/null\n",
        "\n",
        "!tar xf '/content/drive/MyDrive/Colab Notebooks/spark-3.5.1-bin-hadoop3.tgz'\n",
        "!pip install -q findspark\n",
        "\n",
        "# configurar as variáveis de ambiente\n",
        "import os\n",
        "os.environ[\"JAVA_HOME\"] = \"/usr/lib/jvm/java-8-openjdk-amd64\"\n",
        "os.environ[\"SPARK_HOME\"] = \"/content/spark-3.5.1-bin-hadoop3\"\n",
        "\n",
        "# tornar o pyspark \"importável\"\n",
        "import findspark\n",
        "findspark.init('spark-3.5.1-bin-hadoop3')\n",
        "\n",
        "\n",
        "from pyspark.sql import SparkSession"
      ]
    },
    {
      "cell_type": "code",
      "execution_count": 11,
      "metadata": {
        "colab": {
          "base_uri": "https://localhost:8080/"
        },
        "id": "XJZ_plRBU0pe",
        "outputId": "32d2f109-2d0a-4deb-b3a4-28297ac23baf"
      },
      "outputs": [
        {
          "name": "stdout",
          "output_type": "stream",
          "text": [
            "+--------+------+\n",
            "|Produtos|Vendas|\n",
            "+--------+------+\n",
            "|  Caneta|    10|\n",
            "|   Lápis|    20|\n",
            "|  Caneta|    40|\n",
            "+--------+------+\n",
            "\n"
          ]
        }
      ],
      "source": [
        "## Criando RDD\n",
        "\n",
        "\n",
        "schema2 = \"Produtos STRING, Vendas INT\"\n",
        "vendas = [[\"Caneta\",10],[\"Lápis\",20],[\"Caneta\",40]]\n",
        "df3 = sc.createDataFrame(vendas , schema2 )\n",
        "df3.show()"
      ]
    }
  ],
  "metadata": {
    "colab": {
      "authorship_tag": "ABX9TyOVcVAQLj3yNsLOu1YmHMRa",
      "include_colab_link": true,
      "mount_file_id": "16Bqd1j8bHDRFkf3w42cCrOAUikIB4gGo",
      "provenance": []
    },
    "kernelspec": {
      "display_name": "Python 3",
      "name": "python3"
    },
    "language_info": {
      "name": "python"
    }
  },
  "nbformat": 4,
  "nbformat_minor": 0
}
