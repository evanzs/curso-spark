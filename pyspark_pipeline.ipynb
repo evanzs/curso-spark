{
  "nbformat": 4,
  "nbformat_minor": 0,
  "metadata": {
    "colab": {
      "provenance": [],
      "authorship_tag": "ABX9TyPX2BGddnzOWnSx/1WqXMTh",
      "include_colab_link": true
    },
    "kernelspec": {
      "name": "python3",
      "display_name": "Python 3"
    },
    "language_info": {
      "name": "python"
    }
  },
  "cells": [
    {
      "cell_type": "markdown",
      "metadata": {
        "id": "view-in-github",
        "colab_type": "text"
      },
      "source": [
        "<a href=\"https://colab.research.google.com/github/evanzs/curso-spark/blob/master/pyspark_pipeline.ipynb\" target=\"_parent\"><img src=\"https://colab.research.google.com/assets/colab-badge.svg\" alt=\"Open In Colab\"/></a>"
      ]
    },
    {
      "cell_type": "code",
      "execution_count": 1,
      "metadata": {
        "colab": {
          "base_uri": "https://localhost:8080/"
        },
        "id": "epRgPD7ocemI",
        "outputId": "10933927-c23f-41ba-ade0-0da7423293ef"
      },
      "outputs": [
        {
          "output_type": "stream",
          "name": "stdout",
          "text": [
            "Mounted at /content/drive\n"
          ]
        }
      ],
      "source": [
        "from google.colab import drive\n",
        "drive.mount('/content/drive', force_remount=True)"
      ]
    },
    {
      "cell_type": "code",
      "execution_count": 2,
      "metadata": {
        "id": "Fxao5HM_8JCG"
      },
      "outputs": [],
      "source": [
        "\n",
        "spark_home ='/content/drive/MyDrive/Colab Notebooks/spark-3.5.1-bin-hadoop3.tgz'\n",
        "\n",
        "# instalar as dependências\n",
        "!apt-get install openjdk-11-jdk-headless -qq > /dev/null\n",
        "\n",
        "!tar xf '/content/drive/MyDrive/Colab Notebooks/spark-3.5.1-bin-hadoop3.tgz'\n",
        "!pip install -q findspark\n",
        "\n",
        "# configurar as variáveis de ambiente\n",
        "import os\n",
        "os.environ[\"JAVA_HOME\"] = \"/usr/lib/jvm/java-11-openjdk-amd64\"\n",
        "os.environ[\"SPARK_HOME\"] = \"/content/spark-3.5.1-bin-hadoop3\"\n",
        "\n",
        "# tornar o pyspark \"importável\"\n",
        "import findspark\n",
        "findspark.init('spark-3.5.1-bin-hadoop3')\n",
        "\n",
        "from pyspark.sql import SparkSession"
      ]
    },
    {
      "cell_type": "code",
      "source": [
        "\n",
        "## Criando RDD\n",
        "spark = SparkSession.builder.appName(\"ml\").getOrCreate()\n",
        "\n",
        "## importando classes de ml\n",
        "from pyspark.ml.classification import DecisionTreeClassifier\n",
        "from pyspark.ml.feature import RFormula\n",
        "from pyspark.ml.evaluation import BinaryClassificationEvaluator\n",
        "\n",
        "## importando Dados\n",
        "import pandas as pd\n",
        "df  = pd.read_csv(\"https://raw.githubusercontent.com/evanzs/curso-spark/master/datasets/Churn.csv\",sep=';')\n",
        "df_chorn = spark.createDataFrame(df)\n",
        "df_chorn.show(5)"
      ],
      "metadata": {
        "colab": {
          "base_uri": "https://localhost:8080/"
        },
        "id": "gqym13ppdVOD",
        "outputId": "ffaf5fbf-af8e-41f1-bb7a-13333ea6a40c"
      },
      "execution_count": 3,
      "outputs": [
        {
          "output_type": "stream",
          "name": "stdout",
          "text": [
            "+-----------+---------+------+---+------+--------+-------------+---------+--------------+---------------+------+\n",
            "|CreditScore|Geography|Gender|Age|Tenure| Balance|NumOfProducts|HasCrCard|IsActiveMember|EstimatedSalary|Exited|\n",
            "+-----------+---------+------+---+------+--------+-------------+---------+--------------+---------------+------+\n",
            "|        619|   France|Female| 42|     2|       0|            1|        1|             1|       10134888|     1|\n",
            "|        608|    Spain|Female| 41|     1| 8380786|            1|        0|             1|       11254258|     0|\n",
            "|        502|   France|Female| 42|     8| 1596608|            3|        1|             0|       11393157|     1|\n",
            "|        699|   France|Female| 39|     1|       0|            2|        0|             0|        9382663|     0|\n",
            "|        850|    Spain|Female| 43|     2|12551082|            1|        1|             1|         790841|     0|\n",
            "+-----------+---------+------+---+------+--------+-------------+---------+--------------+---------------+------+\n",
            "only showing top 5 rows\n",
            "\n"
          ]
        }
      ]
    },
    {
      "cell_type": "code",
      "source": [
        "## instanciando e configurando\n",
        "# o metodo já faz varios tipos de transformação\n",
        "formula = RFormula(formula=\"Exited ~ .\",featuresCol=\"features\",labelCol=\"label\",handleInvalid=\"skip\")\n",
        "\n",
        "\n",
        "# aplicando a formula e trienando\n",
        "model_churn = formula.fit(df_chorn).transform(df_chorn)\n",
        "\n",
        "## dividindo o dataFrame\n",
        "treino,teste = model_churn.randomSplit([0.7,0.3])\n",
        "\n",
        "#criando o modelo\n",
        "dt_chorn = DecisionTreeClassifier(labelCol=\"label\", featuresCol=\"features\")\n",
        "\n",
        "# treinando o modelo\n",
        "model_dt = dt_chorn.fit(treino)\n",
        "\n",
        "\n",
        "model_preview = model_dt.transform(teste)\n",
        "\n",
        "model_preview.show(5)"
      ],
      "metadata": {
        "colab": {
          "base_uri": "https://localhost:8080/"
        },
        "id": "Y47mqnxCducU",
        "outputId": "194df77d-ce21-45c2-c08e-8661bf75e2ff"
      },
      "execution_count": 4,
      "outputs": [
        {
          "output_type": "stream",
          "name": "stdout",
          "text": [
            "+-----------+---------+------+---+------+--------+-------------+---------+--------------+---------------+------+--------------------+-----+-------------+--------------------+----------+\n",
            "|CreditScore|Geography|Gender|Age|Tenure| Balance|NumOfProducts|HasCrCard|IsActiveMember|EstimatedSalary|Exited|            features|label|rawPrediction|         probability|prediction|\n",
            "+-----------+---------+------+---+------+--------+-------------+---------+--------------+---------------+------+--------------------+-----+-------------+--------------------+----------+\n",
            "|        350|    Spain|  Male| 54|     1|15267748|            1|        1|             1|       19197349|     1|[350.0,0.0,0.0,1....|  1.0|[311.0,115.0]|[0.73004694835680...|       0.0|\n",
            "|        358|    Spain|Female| 52|     8|14354236|            3|        1|             0|       14195911|     1|[358.0,0.0,0.0,0....|  1.0|   [0.0,35.0]|           [0.0,1.0]|       1.0|\n",
            "|        359|   France|Female| 44|     6|12874769|            1|        1|             0|       14695571|     1|[359.0,1.0,0.0,0....|  1.0|[133.0,172.0]|[0.43606557377049...|       1.0|\n",
            "|        376|  Germany|Female| 29|     4|11504674|            4|        1|             0|       11934688|     1|[376.0,0.0,1.0,0....|  1.0|   [7.0,56.0]|[0.11111111111111...|       1.0|\n",
            "|        399|  Germany|  Male| 46|     2|12765522|            1|        1|             0|       13999468|     1|[399.0,0.0,1.0,1....|  1.0|[133.0,172.0]|[0.43606557377049...|       1.0|\n",
            "+-----------+---------+------+---+------+--------+-------------+---------+--------------+---------------+------+--------------------+-----+-------------+--------------------+----------+\n",
            "only showing top 5 rows\n",
            "\n"
          ]
        }
      ]
    },
    {
      "cell_type": "markdown",
      "source": [
        "## **Criando e Trabalhando com PIPELINE**\n",
        "\n",
        "- criando pipeline apenas nos estagios de transformação (formula) e modelo (dt_chorn)"
      ],
      "metadata": {
        "id": "Gzwcf52Nd_qq"
      }
    },
    {
      "cell_type": "code",
      "source": [
        "from pyspark.ml import Pipeline\n",
        "\n",
        "\n",
        "## passando a transformação e o modelo que foi criado\n",
        "pipeline = Pipeline(stages =[formula,dt_chorn])\n",
        "\n",
        "## executando os estagios passando o dataset informado\n",
        "pipelineModel = pipeline.fit(df_chorn)\n",
        "## fazendo a previsão\n",
        "preview = pipelineModel.transform(df_chorn)\n",
        "preview.show(5)\n"
      ],
      "metadata": {
        "colab": {
          "base_uri": "https://localhost:8080/"
        },
        "id": "w2WOp8I3gHIk",
        "outputId": "8021c51f-81c5-4b06-8a30-449c5bcbcf1b"
      },
      "execution_count": 9,
      "outputs": [
        {
          "output_type": "stream",
          "name": "stdout",
          "text": [
            "+-----------+---------+------+---+------+--------+-------------+---------+--------------+---------------+------+--------------------+-----+--------------+--------------------+----------+\n",
            "|CreditScore|Geography|Gender|Age|Tenure| Balance|NumOfProducts|HasCrCard|IsActiveMember|EstimatedSalary|Exited|            features|label| rawPrediction|         probability|prediction|\n",
            "+-----------+---------+------+---+------+--------+-------------+---------+--------------+---------------+------+--------------------+-----+--------------+--------------------+----------+\n",
            "|        619|   France|Female| 42|     2|       0|            1|        1|             1|       10134888|     1|[619.0,1.0,0.0,0....|  1.0|[6233.0,713.0]|[0.89735099337748...|       0.0|\n",
            "|        608|    Spain|Female| 41|     1| 8380786|            1|        0|             1|       11254258|     0|[608.0,0.0,0.0,0....|  0.0|[6233.0,713.0]|[0.89735099337748...|       0.0|\n",
            "|        502|   France|Female| 42|     8| 1596608|            3|        1|             0|       11393157|     1|[502.0,1.0,0.0,0....|  1.0|    [8.0,89.0]|[0.08247422680412...|       1.0|\n",
            "|        699|   France|Female| 39|     1|       0|            2|        0|             0|        9382663|     0|(11,[0,1,4,5,7,10...|  0.0|[6233.0,713.0]|[0.89735099337748...|       0.0|\n",
            "|        850|    Spain|Female| 43|     2|12551082|            1|        1|             1|         790841|     0|[850.0,0.0,0.0,0....|  0.0| [447.0,161.0]|[0.73519736842105...|       0.0|\n",
            "+-----------+---------+------+---+------+--------+-------------+---------+--------------+---------------+------+--------------------+-----+--------------+--------------------+----------+\n",
            "only showing top 5 rows\n",
            "\n"
          ]
        }
      ]
    }
  ]
}