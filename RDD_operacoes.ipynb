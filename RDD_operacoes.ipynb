{
  "nbformat": 4,
  "nbformat_minor": 0,
  "metadata": {
    "colab": {
      "provenance": [],
      "authorship_tag": "ABX9TyMs82z+VbeXkhXj/+lvTqqc",
      "include_colab_link": true
    },
    "kernelspec": {
      "name": "python3",
      "display_name": "Python 3"
    },
    "language_info": {
      "name": "python"
    }
  },
  "cells": [
    {
      "cell_type": "markdown",
      "metadata": {
        "id": "view-in-github",
        "colab_type": "text"
      },
      "source": [
        "<a href=\"https://colab.research.google.com/github/evanzs/curso-spark/blob/master/RDD_operacoes.ipynb\" target=\"_parent\"><img src=\"https://colab.research.google.com/assets/colab-badge.svg\" alt=\"Open In Colab\"/></a>"
      ]
    },
    {
      "cell_type": "code",
      "execution_count": null,
      "metadata": {
        "id": "0Y--vYDdCJYF"
      },
      "outputs": [],
      "source": []
    },
    {
      "cell_type": "code",
      "metadata": {
        "id": "Oz_8sWI7PKEl"
      },
      "source": [
        "# instalar as dependências\n",
        "!apt-get install openjdk-8-jdk-headless -qq > /dev/null\n",
        "!wget -q https://dlcdn.apache.org/spark/spark-3.5.1/spark-3.5.1-bin-hadoop3.tgz\n",
        "!tar xf spark-3.5.1-bin-hadoop3.tgz\n",
        "!pip install -q findspark\n",
        "\n",
        "# configurar as variáveis de ambiente\n",
        "import os\n",
        "os.environ[\"JAVA_HOME\"] = \"/usr/lib/jvm/java-8-openjdk-amd64\"\n",
        "os.environ[\"SPARK_HOME\"] = \"/content/spark-3.5.1-bin-hadoop3\"\n",
        "\n",
        "# tornar o pyspark \"importável\"\n",
        "import findspark\n",
        "findspark.init('spark-3.5.1-bin-hadoop3')\n",
        "\n",
        "\n",
        "from pyspark.sql import SparkSession\n"
      ],
      "execution_count": 1,
      "outputs": []
    },
    {
      "cell_type": "code",
      "source": [],
      "metadata": {
        "id": "YfccDmAh-kWL"
      },
      "execution_count": 1,
      "outputs": []
    },
    {
      "cell_type": "markdown",
      "source": [
        "**Trabalhando com RDD**\n",
        "**Utulizando operações**"
      ],
      "metadata": {
        "id": "W-UJbGae-ZLP"
      }
    },
    {
      "cell_type": "markdown",
      "source": [],
      "metadata": {
        "id": "QOVS7Yh-_Bj3"
      }
    },
    {
      "cell_type": "code",
      "source": [
        "## Criando RDD\n",
        "sc =SparkSession.builder.appName('teste').getOrCreate();\n",
        "numeros = sc.sparkContext.parallelize([1,2,3,4,5,6,7,8,9,10])\n"
      ],
      "metadata": {
        "id": "tVeAtw3QCRZW"
      },
      "execution_count": 2,
      "outputs": []
    },
    {
      "cell_type": "markdown",
      "source": [
        "LISTAGEM E AMOSTRAGEM DE RDD"
      ],
      "metadata": {
        "id": "mL6RZZcMAyYg"
      }
    },
    {
      "cell_type": "code",
      "source": [
        "## Listagem\n",
        "numeros.collect()\n"
      ],
      "metadata": {
        "colab": {
          "base_uri": "https://localhost:8080/"
        },
        "id": "B3rB0bJWAhNy",
        "outputId": "aada3255-8876-43a9-db33-7b1809610a14"
      },
      "execution_count": 3,
      "outputs": [
        {
          "output_type": "execute_result",
          "data": {
            "text/plain": [
              "[1, 2, 3, 4, 5, 6, 7, 8, 9, 10]"
            ]
          },
          "metadata": {},
          "execution_count": 3
        }
      ]
    },
    {
      "cell_type": "code",
      "source": [
        "## listando apenas 4\n",
        "print(numeros.take(4))\n",
        "\n",
        "## listando 4 ultimos\n",
        "print(\"listando 4 ultimos: \",numeros.top(4))"
      ],
      "metadata": {
        "id": "U0BhqkauX1Wh",
        "colab": {
          "base_uri": "https://localhost:8080/"
        },
        "outputId": "f87a7556-20c3-4c9f-a0a3-86e702f50509"
      },
      "execution_count": 4,
      "outputs": [
        {
          "output_type": "stream",
          "name": "stdout",
          "text": [
            "[1, 2, 3, 4]\n",
            "listando 4 ultimos:  [10, 9, 8, 7]\n"
          ]
        }
      ]
    },
    {
      "cell_type": "markdown",
      "source": [
        "**OPERACOES ARITIMÉTICAS**\n",
        "\n",
        "```\n",
        "# This is formatted as code\n",
        "```\n",
        "\n"
      ],
      "metadata": {
        "id": "UEzwxA5JBQ0R"
      }
    },
    {
      "cell_type": "code",
      "source": [
        "# SOma:\n",
        "print(\"soma dos valores: \", numeros.sum())\n",
        "\n",
        "# Média:\n",
        "print(\"média dos valores: \", numeros.mean())\n",
        "\n",
        "# maximo:\n",
        "print(\"maximo dos valores: \", numeros.max())\n",
        "\n",
        "# Minimo:\n",
        "print(\"minimo dos valores: \", numeros.min())\n",
        "\n",
        "# STD\n",
        "# Média:\n",
        "print(\"STD dos valores: \", numeros.stdev())"
      ],
      "metadata": {
        "colab": {
          "base_uri": "https://localhost:8080/"
        },
        "id": "pLpCRSHxA-18",
        "outputId": "43d9b765-3066-4316-cd6b-e2cecd56b04d"
      },
      "execution_count": 5,
      "outputs": [
        {
          "output_type": "stream",
          "name": "stdout",
          "text": [
            "soma dos valores:  55\n",
            "média dos valores:  5.5\n",
            "maximo dos valores:  10\n",
            "minimo dos valores:  1\n",
            "STD dos valores:  2.8722813232690143\n"
          ]
        }
      ]
    },
    {
      "cell_type": "markdown",
      "source": [
        "**TRABALHANDO COM FILTRAGEM**"
      ],
      "metadata": {
        "id": "zDxfkiJeB19k"
      }
    },
    {
      "cell_type": "code",
      "source": [
        "novoNumero = numeros.filter(lambda x: x > 2)\n",
        "novoNumero.collect()"
      ],
      "metadata": {
        "id": "h77cGg9xB1Nb",
        "colab": {
          "base_uri": "https://localhost:8080/"
        },
        "outputId": "19b3697f-bfa1-462d-f257-00a1b7d9b2ea"
      },
      "execution_count": 7,
      "outputs": [
        {
          "output_type": "execute_result",
          "data": {
            "text/plain": [
              "[3, 4, 5, 6, 7, 8, 9, 10]"
            ]
          },
          "metadata": {},
          "execution_count": 7
        }
      ]
    },
    {
      "cell_type": "code",
      "source": [
        "## amostra com reposição\n",
        "## Geralndo uma mmostra\n",
        "#- True = com reposição\n",
        "#- 0.5 = changes do numero fazer parte dessa amostra\n",
        "amostra = numeros.sample(True,0.5,1)\n",
        "\n",
        "\n",
        "amostra.collect()"
      ],
      "metadata": {
        "colab": {
          "base_uri": "https://localhost:8080/"
        },
        "id": "fOG4J842SeYj",
        "outputId": "94e1434a-7740-4883-d62b-30ce3adc0a20"
      },
      "execution_count": 8,
      "outputs": [
        {
          "output_type": "execute_result",
          "data": {
            "text/plain": [
              "[2, 3, 4, 5, 8, 10, 10, 10, 10]"
            ]
          },
          "metadata": {},
          "execution_count": 8
        }
      ]
    },
    {
      "cell_type": "code",
      "source": [
        "## utulizando .map para aplicação de função\n",
        "print(numeros.collect())\n",
        "\n",
        "map = numeros.map(lambda x: x > 2)\n",
        "print(\"x > 2: \", map.collect())\n",
        "\n",
        "map = numeros.map(lambda x: x**2)\n",
        "print(\"potencia: \", map.collect())\n"
      ],
      "metadata": {
        "colab": {
          "base_uri": "https://localhost:8080/"
        },
        "id": "d0pM-XSgTUWS",
        "outputId": "ef52cde4-6988-4546-97bb-a718a6fdbbe7"
      },
      "execution_count": 12,
      "outputs": [
        {
          "output_type": "stream",
          "name": "stdout",
          "text": [
            "[1, 2, 3, 4, 5, 6, 7, 8, 9, 10]\n",
            "x > 2:  [False, False, True, True, True, True, True, True, True, True]\n",
            "potencia:  [1, 4, 9, 16, 25, 36, 49, 64, 81, 100]\n"
          ]
        }
      ]
    },
    {
      "cell_type": "markdown",
      "source": [
        "**TRABALHANDO COM OPERACOES ENTRE CONJUNTOS**"
      ],
      "metadata": {
        "id": "ZGOc-aCfT_GY"
      }
    },
    {
      "cell_type": "code",
      "source": [
        "A = sc.sparkContext.parallelize([1,2,3,4,5])\n",
        "B = sc.sparkContext.parallelize([5,6,7,8,9,10])"
      ],
      "metadata": {
        "id": "t7SWFPHbT7bR"
      },
      "execution_count": 13,
      "outputs": []
    },
    {
      "cell_type": "code",
      "source": [
        "print(\"A: \", A.collect())\n",
        "print(\"B: \", B.collect())\n",
        "\n",
        "print(\"União:\", )\n",
        "print(\"A U B : \", (A.union(B)).collect())\n",
        "print(\"B U A : \", (B.union(A)).collect())\n",
        "\n",
        "\n",
        "print(\"Intersecção:\", )\n",
        "print(\"A ^ B : \", (A.intersection(B)).collect())\n",
        "print(\"B ^ A : \", (B.intersection(A)).collect())\n",
        "\n",
        "\n",
        "print(\"subtração: (elementos que tem em A e não tem em B e vice versa)\" )\n",
        "print(\"A - B : \", (A.subtract(B)).collect())\n",
        "print(\"B - A : \", (B.subtract(A)).collect())\n",
        "\n",
        "\n",
        "print(\"cartesiano:\", )\n",
        "print(\"A ^ B : \", (A.cartesian(B)).collect())\n",
        "print(\"B ^ A : \", (B.cartesian(A)).collect())\n",
        "\n",
        "\n",
        "## \"countByValue\": conta por valor o numero de vezes que cada elemento aparece\n",
        "cartesiano = B.cartesian(A)\n",
        "print(\"countByValue: \",cartesiano.countByValue() )"
      ],
      "metadata": {
        "colab": {
          "base_uri": "https://localhost:8080/"
        },
        "id": "rG38epqnUQFj",
        "outputId": "f6e156ea-f4da-4b66-a804-e1c6c1fad338"
      },
      "execution_count": 24,
      "outputs": [
        {
          "output_type": "stream",
          "name": "stdout",
          "text": [
            "A:  [1, 2, 3, 4, 5]\n",
            "B:  [5, 6, 7, 8, 9, 10]\n",
            "União:\n",
            "A U B :  [1, 2, 3, 4, 5, 5, 6, 7, 8, 9, 10]\n",
            "B U A :  [5, 6, 7, 8, 9, 10, 1, 2, 3, 4, 5]\n",
            "Intersecção:\n",
            "A ^ B :  [5]\n",
            "B ^ A :  [5]\n",
            "subtração: (elementos que tem em A e não tem em B e vice versa)\n",
            "A - B :  [4, 1, 2, 3]\n",
            "B - A :  [8, 9, 6, 10, 7]\n",
            "cartesiano:\n",
            "A ^ B :  [(1, 5), (1, 6), (1, 7), (2, 5), (2, 6), (2, 7), (1, 8), (1, 9), (1, 10), (2, 8), (2, 9), (2, 10), (3, 5), (3, 6), (3, 7), (4, 5), (4, 6), (4, 7), (5, 5), (5, 6), (5, 7), (3, 8), (3, 9), (3, 10), (4, 8), (4, 9), (4, 10), (5, 8), (5, 9), (5, 10)]\n",
            "B ^ A :  [(5, 1), (5, 2), (6, 1), (6, 2), (7, 1), (7, 2), (5, 3), (5, 4), (6, 3), (6, 4), (7, 3), (7, 4), (5, 5), (6, 5), (7, 5), (8, 1), (8, 2), (9, 1), (9, 2), (10, 1), (10, 2), (8, 3), (8, 4), (9, 3), (9, 4), (10, 3), (10, 4), (8, 5), (9, 5), (10, 5)]\n",
            "countByValue:  defaultdict(<class 'int'>, {(5, 1): 1, (5, 2): 1, (6, 1): 1, (6, 2): 1, (7, 1): 1, (7, 2): 1, (5, 3): 1, (5, 4): 1, (6, 3): 1, (6, 4): 1, (7, 3): 1, (7, 4): 1, (5, 5): 1, (6, 5): 1, (7, 5): 1, (8, 1): 1, (8, 2): 1, (9, 1): 1, (9, 2): 1, (10, 1): 1, (10, 2): 1, (8, 3): 1, (8, 4): 1, (9, 3): 1, (9, 4): 1, (10, 3): 1, (10, 4): 1, (8, 5): 1, (9, 5): 1, (10, 5): 1})\n"
          ]
        }
      ]
    },
    {
      "cell_type": "markdown",
      "source": [
        "**CRIANDO RDD MAIS COMPLEXOS COM CHAVE E VALORES**"
      ],
      "metadata": {
        "id": "7RKoS0c0pUxm"
      }
    },
    {
      "cell_type": "code",
      "source": [
        "#compras, codigo do cliente e valor\n",
        "# primeiro valor seria o ID do cliente\n",
        "# segundo valor seria o valor da compra\n",
        "compras = sc.sparkContext.parallelize([(1,200),(2,300),(3,120),(4,250),(5,78)])\n",
        "\n",
        "#debitos, codigo cliente e valor\n",
        "debitos = sc.sparkContext.parallelize([(1,20),(2,300)])\n",
        "# primeiro valor seria o ID do cliente\n",
        "# segundo valor seria o valor do debito\n",
        "\n",
        "\n",
        "print(\"listando apenas as chaves: \")\n",
        "print(compras.keys().collect())\n",
        "\n",
        "\n",
        "print(\"\\nlistando apenas os valores: \")\n",
        "print(compras.values().collect())\n",
        "\n",
        "\n",
        "print(\"Conta elementos por chaves: \")\n",
        "print(compras.countByKey())\n",
        "\n",
        "print(\"Conta elementos por valor: \")\n",
        "print(compras.countByValue())\n",
        "\n",
        "\n",
        "print(\"Aplicando funcoes no RDD sem alterar chaves: \")\n",
        "somaUm = compras.mapValues(lambda  x: x+1)\n",
        "print(somaUm.collect())\n",
        "\n",
        "\n",
        "print(\"Agrupando por chaves: \")\n",
        "agrupa = compras.groupByKey()\n",
        "print(agrupa.mapValues(list).collect())\n",
        "\n",
        "print(\"inner join entre compra e debito: \")\n",
        "join = compras.join(debitos)\n",
        "print(join.collect())\n",
        "\n",
        "\n",
        "print(\"remove todos com debitos: \")\n",
        "semDebito = compras.subtractByKey(debitos)\n",
        "print(semDebito.collect())\n"
      ],
      "metadata": {
        "colab": {
          "base_uri": "https://localhost:8080/"
        },
        "id": "NSwWEnvJVNh4",
        "outputId": "9f934229-3579-412c-daa5-eaa8be196093"
      },
      "execution_count": 38,
      "outputs": [
        {
          "output_type": "stream",
          "name": "stdout",
          "text": [
            "listando apenas as chaves: \n",
            "[1, 2, 3, 4, 5]\n",
            "\n",
            "listando apenas os valores: \n",
            "[200, 300, 120, 250, 78]\n",
            "Conta elementos por chaves: \n",
            "defaultdict(<class 'int'>, {1: 1, 2: 1, 3: 1, 4: 1, 5: 1})\n",
            "Conta elementos por valor: \n",
            "defaultdict(<class 'int'>, {(1, 200): 1, (2, 300): 1, (3, 120): 1, (4, 250): 1, (5, 78): 1})\n",
            "Aplicando funcoes no RDD sem alterar chaves: \n",
            "[(1, 201), (2, 301), (3, 121), (4, 251), (5, 79)]\n",
            "Agrupando por chaves: \n",
            "[(2, [300]), (4, [250]), (1, [200]), (3, [120]), (5, [78])]\n",
            "inner join entre compra e debito: \n",
            "[(1, (200, 20)), (2, (300, 300))]\n",
            "remove todos com debitos: \n",
            "[(4, 250), (5, 78), (3, 120)]\n"
          ]
        }
      ]
    },
    {
      "cell_type": "code",
      "source": [
        "print(\"remove todos com debitos: \")\n",
        "semDebito = compras.subtractByKey(debitos)\n",
        "print(semDebito.collect())"
      ],
      "metadata": {
        "colab": {
          "base_uri": "https://localhost:8080/"
        },
        "id": "1mqdG3eXpTzq",
        "outputId": "c173a255-c47f-404d-cd75-c390adbbf861"
      },
      "execution_count": 37,
      "outputs": [
        {
          "output_type": "stream",
          "name": "stdout",
          "text": [
            "remove todos com debitos: \n",
            "[(4, 250), (5, 78), (3, 120)]\n"
          ]
        }
      ]
    }
  ]
}