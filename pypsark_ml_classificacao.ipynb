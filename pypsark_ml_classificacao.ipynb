{
  "nbformat": 4,
  "nbformat_minor": 0,
  "metadata": {
    "colab": {
      "provenance": [],
      "authorship_tag": "ABX9TyMAg5HK2k0ZRMUCnEUYL/IX",
      "include_colab_link": true
    },
    "kernelspec": {
      "name": "python3",
      "display_name": "Python 3"
    },
    "language_info": {
      "name": "python"
    }
  },
  "cells": [
    {
      "cell_type": "markdown",
      "metadata": {
        "id": "view-in-github",
        "colab_type": "text"
      },
      "source": [
        "<a href=\"https://colab.research.google.com/github/evanzs/curso-spark/blob/master/pypsark_ml_classificacao.ipynb\" target=\"_parent\"><img src=\"https://colab.research.google.com/assets/colab-badge.svg\" alt=\"Open In Colab\"/></a>"
      ]
    },
    {
      "cell_type": "code",
      "source": [
        "from google.colab import drive\n",
        "drive.mount('/content/drive', force_remount=True)\n",
        "\n"
      ],
      "metadata": {
        "colab": {
          "base_uri": "https://localhost:8080/"
        },
        "id": "r_ZUEkE5DGf5",
        "outputId": "f3ec935f-8400-4865-b5da-60e2e73c2595"
      },
      "execution_count": 6,
      "outputs": [
        {
          "output_type": "stream",
          "name": "stdout",
          "text": [
            "Mounted at /content/drive\n"
          ]
        }
      ]
    },
    {
      "cell_type": "code",
      "execution_count": 7,
      "metadata": {
        "id": "Fxao5HM_8JCG"
      },
      "outputs": [],
      "source": [
        "\n",
        "spark_home ='/content/drive/MyDrive/Colab Notebooks/spark-3.5.1-bin-hadoop3.tgz'\n",
        "\n",
        "# instalar as dependências\n",
        "!apt-get install openjdk-11-jdk-headless -qq > /dev/null\n",
        "\n",
        "!tar xf '/content/drive/MyDrive/Colab Notebooks/spark-3.5.1-bin-hadoop3.tgz'\n",
        "!pip install -q findspark\n",
        "\n",
        "# configurar as variáveis de ambiente\n",
        "import os\n",
        "os.environ[\"JAVA_HOME\"] = \"/usr/lib/jvm/java-11-openjdk-amd64\"\n",
        "os.environ[\"SPARK_HOME\"] = \"/content/spark-3.5.1-bin-hadoop3\"\n",
        "\n",
        "# tornar o pyspark \"importável\"\n",
        "import findspark\n",
        "findspark.init('spark-3.5.1-bin-hadoop3')\n",
        "\n",
        "from pyspark.sql import SparkSession"
      ]
    },
    {
      "cell_type": "code",
      "source": [
        "\n",
        "## Criando RDD\n",
        "spark = SparkSession.builder.appName(\"ml\").getOrCreate()\n",
        "\n",
        "## importando classes de ml\n",
        "from pyspark.ml.classification import DecisionTreeClassifier\n",
        "from pyspark.ml.feature import RFormula\n",
        "from pyspark.ml.evaluation import BinaryClassificationEvaluator\n",
        "\n",
        "## importando Dados\n",
        "import pandas as pd\n",
        "df  = pd.read_csv(\"https://raw.githubusercontent.com/evanzs/curso-spark/master/datasets/Churn.csv\",sep=';')\n",
        "df_chorn = spark.createDataFrame(df)\n",
        "df_chorn.show(5)"
      ],
      "metadata": {
        "colab": {
          "base_uri": "https://localhost:8080/"
        },
        "id": "8PHdT9_l8M_j",
        "outputId": "0e8a9dc5-4f2f-46e2-8e6d-b1ffec01c096"
      },
      "execution_count": 11,
      "outputs": [
        {
          "output_type": "stream",
          "name": "stdout",
          "text": [
            "+-----------+---------+------+---+------+--------+-------------+---------+--------------+---------------+------+\n",
            "|CreditScore|Geography|Gender|Age|Tenure| Balance|NumOfProducts|HasCrCard|IsActiveMember|EstimatedSalary|Exited|\n",
            "+-----------+---------+------+---+------+--------+-------------+---------+--------------+---------------+------+\n",
            "|        619|   France|Female| 42|     2|       0|            1|        1|             1|       10134888|     1|\n",
            "|        608|    Spain|Female| 41|     1| 8380786|            1|        0|             1|       11254258|     0|\n",
            "|        502|   France|Female| 42|     8| 1596608|            3|        1|             0|       11393157|     1|\n",
            "|        699|   France|Female| 39|     1|       0|            2|        0|             0|        9382663|     0|\n",
            "|        850|    Spain|Female| 43|     2|12551082|            1|        1|             1|         790841|     0|\n",
            "+-----------+---------+------+---+------+--------+-------------+---------+--------------+---------------+------+\n",
            "only showing top 5 rows\n",
            "\n"
          ]
        }
      ]
    },
    {
      "cell_type": "markdown",
      "source": [
        "## Usando RFormula\n",
        "\n",
        "- usando RFormula para classificação, na sintaxe do R\n",
        "- usaremos o metodo para classificar a variavel objetivo \"EXITED\", ou seja exited sim(1) ou não (0)\n"
      ],
      "metadata": {
        "id": "KqG-jm-o8Um9"
      }
    },
    {
      "cell_type": "code",
      "source": [
        "## instanciando e configurando\n",
        "# o metodo já faz varios tipos de transformação\n",
        "formula = RFormula(formula=\"Exited ~ .\",featuresCol=\"features\",labelCol=\"label\",handleInvalid=\"skip\")\n",
        "\n",
        "\n",
        "# aplicando a formula e trienando\n",
        "model_churn = formula.fit(df_chorn).transform(df_chorn)\n",
        "model_churn.show(5)"
      ],
      "metadata": {
        "colab": {
          "base_uri": "https://localhost:8080/"
        },
        "id": "uByzLMgU8Vhg",
        "outputId": "b800ad1f-db67-4b7f-f385-8453a7fdaebb"
      },
      "execution_count": 15,
      "outputs": [
        {
          "output_type": "stream",
          "name": "stdout",
          "text": [
            "+-----------+---------+------+---+------+--------+-------------+---------+--------------+---------------+------+--------------------+-----+\n",
            "|CreditScore|Geography|Gender|Age|Tenure| Balance|NumOfProducts|HasCrCard|IsActiveMember|EstimatedSalary|Exited|            features|label|\n",
            "+-----------+---------+------+---+------+--------+-------------+---------+--------------+---------------+------+--------------------+-----+\n",
            "|        619|   France|Female| 42|     2|       0|            1|        1|             1|       10134888|     1|[619.0,1.0,0.0,0....|  1.0|\n",
            "|        608|    Spain|Female| 41|     1| 8380786|            1|        0|             1|       11254258|     0|[608.0,0.0,0.0,0....|  0.0|\n",
            "|        502|   France|Female| 42|     8| 1596608|            3|        1|             0|       11393157|     1|[502.0,1.0,0.0,0....|  1.0|\n",
            "|        699|   France|Female| 39|     1|       0|            2|        0|             0|        9382663|     0|(11,[0,1,4,5,7,10...|  0.0|\n",
            "|        850|    Spain|Female| 43|     2|12551082|            1|        1|             1|         790841|     0|[850.0,0.0,0.0,0....|  0.0|\n",
            "+-----------+---------+------+---+------+--------+-------------+---------+--------------+---------------+------+--------------------+-----+\n",
            "only showing top 5 rows\n",
            "\n"
          ]
        }
      ]
    },
    {
      "cell_type": "markdown",
      "source": [
        "# Utilizando DecissionTreeClassifier para determinar agora"
      ],
      "metadata": {
        "id": "GAu-MZU9G_aT"
      }
    },
    {
      "cell_type": "code",
      "source": [
        "## dividindo o dataFrame\n",
        "treino,teste = model_churn.randomSplit([0.7,0.3])\n",
        "\n",
        "#criando o modelo\n",
        "dt_chorn = DecisionTreeClassifier(labelCol=\"label\", featuresCol=\"features\")\n",
        "\n",
        "# treinando o modelo\n",
        "model_dt = dt_chorn.fit(treino)\n",
        "\n",
        "\n",
        "model_preview = model_dt.transform(treino)\n",
        "\n",
        "model_preview.show(5)"
      ],
      "metadata": {
        "colab": {
          "base_uri": "https://localhost:8080/"
        },
        "id": "Fi6x-BDxHGhi",
        "outputId": "2a473d02-33d5-4042-cae9-8d7d3bc30531"
      },
      "execution_count": 24,
      "outputs": [
        {
          "output_type": "stream",
          "name": "stdout",
          "text": [
            "+-----------+---------+------+---+------+--------+-------------+---------+--------------+---------------+------+--------------------+-----+--------------+--------------------+----------+\n",
            "|CreditScore|Geography|Gender|Age|Tenure| Balance|NumOfProducts|HasCrCard|IsActiveMember|EstimatedSalary|Exited|            features|label| rawPrediction|         probability|prediction|\n",
            "+-----------+---------+------+---+------+--------+-------------+---------+--------------+---------------+------+--------------------+-----+--------------+--------------------+----------+\n",
            "|        350|  Germany|  Male| 39|     0| 1097332|            2|        0|             0|       12360211|     1|[350.0,0.0,1.0,1....|  1.0|[4289.0,486.0]|[0.89821989528795...|       0.0|\n",
            "|        350|    Spain|  Male| 54|     1|15267748|            1|        1|             1|       19197349|     1|[350.0,0.0,0.0,1....|  1.0| [309.0,113.0]|[0.73222748815165...|       0.0|\n",
            "|        351|  Germany|Female| 57|     4|16314646|            1|        1|             0|       16962169|     1|[351.0,0.0,1.0,0....|  1.0|  [81.0,320.0]|[0.20199501246882...|       1.0|\n",
            "|        359|   France|Female| 44|     6|12874769|            1|        1|             0|       14695571|     1|[359.0,1.0,0.0,0....|  1.0| [122.0,175.0]|[0.41077441077441...|       1.0|\n",
            "|        363|    Spain|Female| 28|     6|14609843|            3|        1|             0|       10061514|     1|[363.0,0.0,0.0,0....|  1.0|    [6.0,62.0]|[0.08823529411764...|       1.0|\n",
            "+-----------+---------+------+---+------+--------+-------------+---------+--------------+---------------+------+--------------------+-----+--------------+--------------------+----------+\n",
            "only showing top 5 rows\n",
            "\n"
          ]
        }
      ]
    },
    {
      "cell_type": "markdown",
      "source": [
        "## Utilizando \"BinaryClassificationEvaluator\" para avaliar a acuracia\n",
        "- utilizando a metrica area sob a curva"
      ],
      "metadata": {
        "id": "EATO4niDGOWF"
      }
    },
    {
      "cell_type": "code",
      "source": [
        "acc = BinaryClassificationEvaluator(rawPredictionCol=\"prediction\",labelCol=\"label\", metricName=\"areaUnderROC\").evaluate(model_preview)\n",
        "print(\"acc: \",acc)\n"
      ],
      "metadata": {
        "colab": {
          "base_uri": "https://localhost:8080/"
        },
        "id": "56PH1MdOE4rZ",
        "outputId": "5f7e8e93-8f59-4e25-b83e-441a19507fc2"
      },
      "execution_count": 25,
      "outputs": [
        {
          "output_type": "stream",
          "name": "stdout",
          "text": [
            "acc:  0.7269429436980087\n"
          ]
        }
      ]
    },
    {
      "cell_type": "code",
      "source": [],
      "metadata": {
        "id": "2PYhWlVjEQlh"
      },
      "execution_count": null,
      "outputs": []
    }
  ]
}